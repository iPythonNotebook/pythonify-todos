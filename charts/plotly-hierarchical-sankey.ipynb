{
 "cells": [
  {
   "cell_type": "markdown",
   "id": "501f29dd-9589-4d7e-8bbd-6adf850ae505",
   "metadata": {},
   "source": [
    "# Sankey\n",
    "\n",
    "**Sankey diagrams** are a [data visualisation](https://en.wikipedia.org/wiki/Data_and_information_visualization \"Data and information visualization\") technique or [flow diagram](https://en.wikipedia.org/wiki/Flow_diagram \"Flow diagram\") that emphasizes flow/movement/change from one state to another or one time to another. Sankey diagrams emphasize the major transfers or flows within a system, and help with locating the most important contributions to a flow.\n",
    "\n",
    "> <sup>*From [Wikipedia](https://en.wikipedia.org/wiki/Sankey_diagram)*</sup>\n",
    "\n",
    "There are implementations for this chart type in both [matplotlib](https://matplotlib.org/stable/api/sankey_api.html) and [Plotly](https://plotly.com/python/sankey-diagram/)."
   ]
  },
  {
   "cell_type": "markdown",
   "id": "d1e4f729-15f5-4f14-9add-01728f879d9b",
   "metadata": {},
   "source": [
    "## Sample Data\n",
    "This example dataframe represents flows that split like a tree (i.e. only in downstream direction), and represents a typicial result of using aggregation on a hierarchical data set."
   ]
  },
  {
   "cell_type": "code",
   "execution_count": null,
   "id": "05a94502-304d-44a3-ab62-9aa13ed6d334",
   "metadata": {},
   "outputs": [],
   "source": [
    "import numpy as np\n",
    "import pandas as pd"
   ]
  },
  {
   "cell_type": "code",
   "execution_count": null,
   "id": "25be5e55-f71c-403e-b48d-7643a773da04",
   "metadata": {},
   "outputs": [],
   "source": [
    "# Sankey sample data\n",
    "data = dict(\n",
    "    lvl1=list('AAAAAAAABBB'),\n",
    "    lvl2=\"AP AP AP AC AC AC AB AB BE BR BA\".split(),\n",
    "    lvl3=\"APP APE APA ACT ACC ACE ABL ABO BET BRE BAK\".split(),\n",
    "    lvl4=\"APPL APEX APAR ACTO ACCE ACER ABLE ABOU\".split() + [np.nan] * 3,\n",
    "    count=[5, 2, 3, 8, 2, 10, 1, 3, 4, 6, 3],\n",
    ")\n",
    "df = pd.DataFrame(data)\n",
    "df"
   ]
  },
  {
   "cell_type": "markdown",
   "id": "84b05a41-5a26-46c1-b385-5ba2da6ae6e4",
   "metadata": {},
   "source": [
    "## Visualizing Hierarchical Data with Plotly\n",
    "Plotly expects Sankey flows in the form of three distinct lists of source and target nodes, and the edges (weights) between them.\n",
    "\n",
    "The following function returns a Plotly graph specifications converted from a hierarchical dataset like the above."
   ]
  },
  {
   "cell_type": "code",
   "execution_count": null,
   "id": "739f6261-cb31-4ce7-bc2f-6cae9be6cc7b",
   "metadata": {},
   "outputs": [],
   "source": [
    "import cmasher as cmr\n",
    "import plotly.offline as py\n",
    "\n",
    "py.init_notebook_mode(connected=False)"
   ]
  },
  {
   "cell_type": "code",
   "execution_count": null,
   "id": "49b185f2-97dc-40be-a3ed-35458a4d0c91",
   "metadata": {},
   "outputs": [],
   "source": [
    "# Based on https://gist.github.com/ken333135/09f8793fff5a6df28558b17e516f91ab#file-gensankey\n",
    "def sankey_spec(df, columns=None, title='Sankey Diagram', titlesize=18, labelsize=12, cmap='Set1'):\n",
    "    \"\"\"Wrapper for Plotly to support a 'level columns + weights' data format.\"\"\"\n",
    "    columns = columns or df.columns\n",
    "    cat_cols, weigth_col = columns[:-1], columns[-1]\n",
    "    palette = cmr.take_cmap_colors(cmap, len(cat_cols), return_fmt='hex')\n",
    "\n",
    "    # create conjoined node label / color lists, so we can use numercial indexes into them\n",
    "    labels, colors = [], []\n",
    "    for color, cat_col in zip(palette, cat_cols):\n",
    "        col_labels = set(df[cat_col].dropna().values)\n",
    "        labels.extend(col_labels)\n",
    "        colors.extend([color] * len(col_labels))  # give each level its own color\n",
    "    \n",
    "    # transform df into source-target pairs\n",
    "    for idx, edges in enumerate(zip(cat_cols, cat_cols[1:], [weigth_col] * len(cat_cols))):\n",
    "        row_df = df[list(edges)]\n",
    "        row_df.columns = ['source', 'target', 'weigth']\n",
    "        if not idx:\n",
    "            links_df = row_df\n",
    "        else:\n",
    "            links_df = pd.concat([links_df, row_df])\n",
    "        links_df = links_df.groupby(['source', 'target']).agg({'weigth': 'sum'}).reset_index()\n",
    "        \n",
    "    # add index columns for source-target pairs\n",
    "    links_df['sourceID'] = links_df['source'].apply(labels.index)\n",
    "    links_df['targetID'] = links_df['target'].apply(labels.index)\n",
    "    \n",
    "    # return the Sankey diagram specification\n",
    "    return dict(\n",
    "        data=[dict(\n",
    "            type='sankey',\n",
    "            node=dict(\n",
    "              pad=15, thickness=20, line=dict(color=\"black\", width=0.5),\n",
    "              label=labels, color=colors,\n",
    "            ),\n",
    "            link=dict(source=links_df['sourceID'],\n",
    "                      target=links_df['targetID'],\n",
    "                      value=links_df['weigth']),\n",
    "        )],\n",
    "        layout=dict(title=dict(text=title, font=dict(size=titlesize)), font=dict(size=labelsize)),\n",
    "    )"
   ]
  },
  {
   "cell_type": "markdown",
   "id": "54afa920-562e-4de6-a8f6-01236eeee0d9",
   "metadata": {},
   "source": [
    "## Final Result\n",
    "Transforming the sample data using the conversion function yields this graph."
   ]
  },
  {
   "cell_type": "code",
   "execution_count": null,
   "id": "ae40c9b7-058d-4b2c-b606-203f9b19dc52",
   "metadata": {},
   "outputs": [],
   "source": [
    "fig = sankey_spec(df, title='Word Etymology')\n",
    "py.iplot(fig, validate=False)"
   ]
  }
 ],
 "metadata": {
  "kernelspec": {
   "display_name": "Python 3 (ipykernel)",
   "language": "python",
   "name": "python3"
  },
  "language_info": {
   "codemirror_mode": {
    "name": "ipython",
    "version": 3
   },
   "file_extension": ".py",
   "mimetype": "text/x-python",
   "name": "python",
   "nbconvert_exporter": "python",
   "pygments_lexer": "ipython3",
   "version": "3.9.2"
  }
 },
 "nbformat": 4,
 "nbformat_minor": 5
}
